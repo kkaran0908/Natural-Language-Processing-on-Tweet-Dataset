{
 "cells": [
  {
   "cell_type": "code",
   "execution_count": 5,
   "metadata": {
    "colab": {
     "base_uri": "https://localhost:8080/",
     "height": 272
    },
    "colab_type": "code",
    "id": "rjj-9snwgL88",
    "outputId": "141b99e4-4a8a-4291-a2a4-5887696c33e5"
   },
   "outputs": [],
   "source": [
    "import warnings\n",
    "warnings.filterwarnings('ignore')\n",
    "import pandas as pd\n",
    "import numpy as np\n",
    "import nltk\n",
    "from nltk.tokenize import word_tokenize\n",
    "from sklearn.model_selection import train_test_split\n",
    "from sklearn.feature_extraction.text import TfidfVectorizer\n",
    "from sklearn.metrics import accuracy_score"
   ]
  },
  {
   "cell_type": "code",
   "execution_count": 2,
   "metadata": {
    "colab": {
     "base_uri": "https://localhost:8080/",
     "height": 122
    },
    "colab_type": "code",
    "id": "i1wrBGW_gbLW",
    "outputId": "18266a51-1f24-423f-eae0-d14b3db149b4"
   },
   "outputs": [
    {
     "name": "stdout",
     "output_type": "stream",
     "text": [
      "Go to this URL in a browser: https://accounts.google.com/o/oauth2/auth?client_id=947318989803-6bn6qk8qdgf4n4g3pfee6491hc0brc4i.apps.googleusercontent.com&redirect_uri=urn%3aietf%3awg%3aoauth%3a2.0%3aoob&response_type=code&scope=email%20https%3a%2f%2fwww.googleapis.com%2fauth%2fdocs.test%20https%3a%2f%2fwww.googleapis.com%2fauth%2fdrive%20https%3a%2f%2fwww.googleapis.com%2fauth%2fdrive.photos.readonly%20https%3a%2f%2fwww.googleapis.com%2fauth%2fpeopleapi.readonly\n",
      "\n",
      "Enter your authorization code:\n",
      "··········\n",
      "Mounted at /content/drive\n"
     ]
    }
   ],
   "source": [
    "from nltk.corpus import stopwords\n",
    "from google.colab import drive\n",
    "drive.mount(\"/content/drive\")"
   ]
  },
  {
   "cell_type": "code",
   "execution_count": 0,
   "metadata": {
    "colab": {},
    "colab_type": "code",
    "id": "JgXMzmHOM45c"
   },
   "outputs": [],
   "source": [
    "f = open(\"drive/My Drive/Fake Image Detection/train.txt\", \"r\")\n",
    "sent=[]\n",
    "cat=[]\n",
    "final=''\n",
    "i=0\n",
    "for x in f:\n",
    "  if len(x)>1 and 'meta' == x.split()[0] and ('negative' == x.split()[-1]):\n",
    "    if(i!=0):\n",
    "      sent.append(final)\n",
    "      final=''\n",
    "\n",
    "    cat.append('negative')\n",
    "  elif len(x)>1 and 'meta' == x.split()[0] and ( 'positive' == x.split()[-1]):\n",
    "    if(i!=0):\n",
    "      sent.append(final)\n",
    "      final=''\n",
    "    cat.append('positive')\n",
    "  elif len(x)>1 and 'meta' == x.split()[0]and ( 'neutral' == x.split()[-1]):\n",
    "    if(i!=0):\n",
    "      sent.append(final)\n",
    "      final=''\n",
    "    cat.append('neutral')\n",
    "\n",
    "  elif len(x)>1:\n",
    "    #print(final)\n",
    "    final=final+' ' + x.split()[0]\n",
    "  i=i+1 \n",
    "sent.append(final)"
   ]
  },
  {
   "cell_type": "code",
   "execution_count": 0,
   "metadata": {
    "colab": {},
    "colab_type": "code",
    "id": "EeSVuDGauY4t"
   },
   "outputs": [],
   "source": [
    "df=pd.DataFrame(columns=['Message','Sentiment'])\n",
    "df['Message']=Message\n",
    "df['Sentiment']=Sentiment"
   ]
  },
  {
   "cell_type": "code",
   "execution_count": 0,
   "metadata": {
    "colab": {},
    "colab_type": "code",
    "id": "pAnwgweAt95I"
   },
   "outputs": [],
   "source": [
    "f = open(\"drive/My Drive/Fake Image Detection/test.txt\", \"r\")\n",
    "sent=[]\n",
    "cat=[]\n",
    "final=''\n",
    "i=0\n",
    "for x in f:\n",
    "  if len(x)>1 and 'meta' == x.split()[0] and ('negative' == x.split()[-1]):\n",
    "    if(i!=0):\n",
    "      sent.append(final)\n",
    "      final=''\n",
    "\n",
    "    cat.append('negative')\n",
    "  elif len(x)>1 and 'meta' == x.split()[0] and ( 'positive' == x.split()[-1]):\n",
    "    if(i!=0):\n",
    "      sent.append(final)\n",
    "      final=''\n",
    "    cat.append('positive')\n",
    "  elif len(x)>1 and 'meta' == x.split()[0]and ( 'neutral' == x.split()[-1]):\n",
    "    if(i!=0):\n",
    "      sent.append(final)\n",
    "      final=''\n",
    "    cat.append('neutral')\n",
    "\n",
    "  elif len(x)>1:\n",
    "    final=final+' ' + x.split()[0]\n",
    "  i=i+1 \n",
    "sent.append(final)"
   ]
  },
  {
   "cell_type": "code",
   "execution_count": 0,
   "metadata": {
    "colab": {},
    "colab_type": "code",
    "id": "JtQuQm01uirj"
   },
   "outputs": [],
   "source": [
    "tdf=pd.DataFrame(columns=['Message','Sentiment'])\n",
    "tdf['Message']=Message\n",
    "tdf['Sentiment']=Sentiment"
   ]
  },
  {
   "cell_type": "markdown",
   "metadata": {},
   "source": [
    "## vectorize the data using tfidf by find out optimal number of features using TruncatedSVD"
   ]
  },
  {
   "cell_type": "code",
   "execution_count": 0,
   "metadata": {
    "colab": {},
    "colab_type": "code",
    "id": "UnPk2nhnjN7E"
   },
   "outputs": [],
   "source": [
    "tfidf1 = TfidfVectorizer(max_features=8000) \n",
    "X_train1 = tfidf1.fit_transform(X_train)\n",
    "X_test1 = tfidf1.transform(X_test)\n",
    "X_cv1 = tfidf1.transform(X_cv)"
   ]
  },
  {
   "cell_type": "code",
   "execution_count": 0,
   "metadata": {
    "colab": {},
    "colab_type": "code",
    "id": "52oyKfmmq1Nh"
   },
   "outputs": [],
   "source": [
    "from keras.preprocessing.text import Tokenizer\n",
    "from keras.preprocessing.sequence import pad_sequences\n",
    "from keras.models import Sequential\n",
    "from keras.layers import Dense, LSTM\n",
    "from keras.layers.embeddings import Embedding"
   ]
  },
  {
   "cell_type": "markdown",
   "metadata": {},
   "source": [
    "#### Data Preparation for BiDirectional LSTM"
   ]
  },
  {
   "cell_type": "code",
   "execution_count": 0,
   "metadata": {
    "colab": {},
    "colab_type": "code",
    "id": "PnJnNUyerAts"
   },
   "outputs": [],
   "source": [
    "tokenizer = Tokenizer(num_words=1000)\n",
    "X = tokenizer.texts_to_sequences(df['sent'].values)\n",
    "X = pad_sequences(X, maxlen=300)"
   ]
  },
  {
   "cell_type": "code",
   "execution_count": 0,
   "metadata": {
    "colab": {},
    "colab_type": "code",
    "id": "sNcvYBlmuCE_"
   },
   "outputs": [],
   "source": [
    "X1 = tokenizer.texts_to_sequences(tdf['sent'].values)\n",
    "X1 = pad_sequences(X1, maxlen=200)"
   ]
  },
  {
   "cell_type": "code",
   "execution_count": 0,
   "metadata": {
    "colab": {},
    "colab_type": "code",
    "id": "bmbaQA_RrDEr"
   },
   "outputs": [],
   "source": [
    "from sklearn.preprocessing import OneHotEncoder\n",
    "enc = OneHotEncoder(handle_unknown='ignore')\n",
    "arry=np.array(df['cat']).reshape(-1,1)\n",
    "enc.fit(arry)\n",
    "Y=enc.transform(arry)"
   ]
  },
  {
   "cell_type": "code",
   "execution_count": 0,
   "metadata": {
    "colab": {},
    "colab_type": "code",
    "id": "Pg4L7xsnuSv7"
   },
   "outputs": [],
   "source": [
    "enc = OneHotEncoder(handle_unknown='ignore')\n",
    "arry=np.array(tdf['cat']).reshape(-1,1)\n",
    "enc.fit(arry)\n",
    "Y1=enc.transform(arry)"
   ]
  },
  {
   "cell_type": "code",
   "execution_count": 0,
   "metadata": {
    "colab": {},
    "colab_type": "code",
    "id": "smnleOrvrGZ4"
   },
   "outputs": [],
   "source": [
    "X_train, X_test111, Y_train, test_senti = train_test_split(X,Y, test_size =1)"
   ]
  },
  {
   "cell_type": "code",
   "execution_count": 28,
   "metadata": {
    "colab": {
     "base_uri": "https://localhost:8080/",
     "height": 479
    },
    "colab_type": "code",
    "id": "22nP5-oSwKIh",
    "outputId": "837ca3d0-efb0-467d-d4cd-b10ee55e3f6d"
   },
   "outputs": [
    {
     "name": "stdout",
     "output_type": "stream",
     "text": [
      "WARNING:tensorflow:From /usr/local/lib/python3.6/dist-packages/keras/backend/tensorflow_backend.py:148: The name tf.placeholder_with_default is deprecated. Please use tf.compat.v1.placeholder_with_default instead.\n",
      "\n",
      "WARNING:tensorflow:From /usr/local/lib/python3.6/dist-packages/keras/backend/tensorflow_backend.py:3733: calling dropout (from tensorflow.python.ops.nn_ops) with keep_prob is deprecated and will be removed in a future version.\n",
      "Instructions for updating:\n",
      "Please use `rate` instead of `keep_prob`. Rate should be set to `rate = 1 - keep_prob`.\n",
      "WARNING:tensorflow:From /usr/local/lib/python3.6/dist-packages/keras/optimizers.py:793: The name tf.train.Optimizer is deprecated. Please use tf.compat.v1.train.Optimizer instead.\n",
      "\n",
      "WARNING:tensorflow:From /usr/local/lib/python3.6/dist-packages/keras/backend/tensorflow_backend.py:3576: The name tf.log is deprecated. Please use tf.math.log instead.\n",
      "\n",
      "Model: \"sequential_2\"\n",
      "_________________________________________________________________\n",
      "Layer (type)                 Output Shape              Param #   \n",
      "=================================================================\n",
      "embedding_2 (Embedding)      (None, 300, 200)          1000000   \n",
      "_________________________________________________________________\n",
      "dense_2 (Dense)              (None, 300, 64)           12864     \n",
      "_________________________________________________________________\n",
      "lstm_1 (LSTM)                (None, 32)                12416     \n",
      "_________________________________________________________________\n",
      "dense_3 (Dense)              (None, 3)                 99        \n",
      "=================================================================\n",
      "Total params: 1,025,379\n",
      "Trainable params: 1,025,379\n",
      "Non-trainable params: 0\n",
      "_________________________________________________________________\n",
      "None\n"
     ]
    }
   ],
   "source": [
    "model = Sequential()\n",
    "model.add(Embedding(5000,200,input_length = X.shape[1]))\n",
    "model.add(Dense(64, activation=\"relu\"))\n",
    "model.add(LSTM(32, dropout=0.50, recurrent_dropout=0.2))\n",
    "model.add(Dense(3,activation='softmax'))\n",
    "model.compile(loss = 'categorical_crossentropy', optimizer='adam',metrics = ['accuracy'])\n",
    "print(model.summary())"
   ]
  },
  {
   "cell_type": "code",
   "execution_count": 2,
   "metadata": {
    "colab": {
     "base_uri": "https://localhost:8080/",
     "height": 564
    },
    "colab_type": "code",
    "id": "KvvrwgDcwilG",
    "outputId": "a6c91be3-5660-4108-87a2-6ba1a54ca5a8"
   },
   "outputs": [
    {
     "name": "stdout",
     "output_type": "stream",
     "text": [
      "WARNING:tensorflow:From /usr/local/lib/python3.6/dist-packages/keras/backend/tensorflow_backend.py:1033: The name tf.assign_add is deprecated. Please use tf.compat.v1.assign_add instead.\n",
      "\n",
      "WARNING:tensorflow:From /usr/local/lib/python3.6/dist-packages/keras/backend/tensorflow_backend.py:1020: The name tf.assign is deprecated. Please use tf.compat.v1.assign instead.\n",
      "\n",
      "WARNING:tensorflow:From /usr/local/lib/python3.6/dist-packages/keras/backend/tensorflow_backend.py:3005: The name tf.Session is deprecated. Please use tf.compat.v1.Session instead.\n",
      "\n",
      "Train on 13617 samples, validate on 1514 samples\n",
      "Epoch 1/10\n",
      "WARNING:tensorflow:From /usr/local/lib/python3.6/dist-packages/keras/backend/tensorflow_backend.py:190: The name tf.get_default_session is deprecated. Please use tf.compat.v1.get_default_session instead.\n",
      "\n",
      "WARNING:tensorflow:From /usr/local/lib/python3.6/dist-packages/keras/backend/tensorflow_backend.py:197: The name tf.ConfigProto is deprecated. Please use tf.compat.v1.ConfigProto instead.\n",
      "\n",
      "WARNING:tensorflow:From /usr/local/lib/python3.6/dist-packages/keras/backend/tensorflow_backend.py:207: The name tf.global_variables is deprecated. Please use tf.compat.v1.global_variables instead.\n",
      "\n",
      "WARNING:tensorflow:From /usr/local/lib/python3.6/dist-packages/keras/backend/tensorflow_backend.py:216: The name tf.is_variable_initialized is deprecated. Please use tf.compat.v1.is_variable_initialized instead.\n",
      "\n",
      "WARNING:tensorflow:From /usr/local/lib/python3.6/dist-packages/keras/backend/tensorflow_backend.py:223: The name tf.variables_initializer is deprecated. Please use tf.compat.v1.variables_initializer instead.\n",
      "\n",
      "13617/13617 [==============================] - 729s 54ms/step - loss: -9.1801 - acc: 0.4372 - val_loss: -16.1870 - val_acc: 0.3905\n",
      "Epoch 2/10\n",
      "13617/13617 [==============================] - 719s 53ms/step - loss: -7.3272 - acc: 0.4529 - val_loss: -11.1050 - val_acc: 0.4201\n",
      "Epoch 3/10\n",
      "13617/13617 [==============================] - 720s 53ms/step - loss: -5.4017 - acc: 0.4827 - val_loss: -7.3250 - val_acc: 0.4523\n",
      "Epoch 4/10\n",
      "13617/13617 [==============================] - 717s 53ms/step - loss: -1.4017 - acc: 0.5209 - val_loss: -1.8729 - val_acc: 0.4927\n",
      "Epoch 5/10\n",
      "13617/13617 [==============================] - 720s 53ms/step - loss: -.4027 - acc: 0.5432 - val_loss: -.9025 - val_acc: 0.5021\n",
      "Epoch 6/10\n",
      "13617/13617 [==============================] - 718s 53ms/step - loss: -.4319 - acc: 0.5512 - val_loss: -.8251 - val_acc: 0.5231\n",
      "Epoch 7/10\n",
      "13617/13617 [==============================] - 725s 53ms/step - loss: -.4037 - acc: 0.5627 - val_loss: -.7726 - val_acc: 0.5385\n",
      "Epoch 8/10\n",
      "13617/13617 [==============================] - 724s 53ms/step - loss: -.3091 - acc: 0.5734 - val_loss: -.5610 - val_acc: 0.5601\n",
      "Epoch 9/10\n",
      "13617/13617 [==============================] - 717s 53ms/step - loss: -.2971 - acc: 0.5898 - val_loss: -.4981 - val_acc: 0.5612\n",
      "Epoch 10/10\n",
      "13617/13617 [==============================] - 712s 52ms/step - loss: -.2817 - acc: 0.4987 - val_loss: -.4750 - val_acc: 0.5625\n"
     ]
    }
   ],
   "source": [
    "model.fit(X_train, Y_train, epochs=5, batch_size=700,validation_split=0.1)"
   ]
  },
  {
   "cell_type": "code",
   "execution_count": 7,
   "metadata": {
    "colab": {},
    "colab_type": "code",
    "id": "FRsPt1vBpmhI"
   },
   "outputs": [
    {
     "name": "stdout",
     "output_type": "stream",
     "text": [
      "              precision    recall  f1-score   support\n",
      "\n",
      "           1       0.59      0.59      0.61       754\n",
      "           2       0.61      0.53      0.67       582\n",
      "           3       0.67      0.55      0.64       533\n",
      "\n",
      "    accuracy                           0.57      1869\n",
      "   macro avg       0.53      0.59      0.56      1869\n",
      "weighted avg       0.57      0.63      0.61      1869\n"
     ]
    }
   ],
   "source": [
    "from sklearn.metrics import classification_report as report\n",
    "accr = model.predict_classes(test_data)\n",
    "report(test_senti,accr)"
   ]
  },
  {
   "cell_type": "code",
   "execution_count": null,
   "metadata": {},
   "outputs": [],
   "source": []
  }
 ],
 "metadata": {
  "accelerator": "GPU",
  "colab": {
   "collapsed_sections": [],
   "name": "Bidirectional_LSTM.ipynb",
   "provenance": [],
   "toc_visible": true
  },
  "kernelspec": {
   "display_name": "Python 3",
   "language": "python",
   "name": "python3"
  },
  "language_info": {
   "codemirror_mode": {
    "name": "ipython",
    "version": 3
   },
   "file_extension": ".py",
   "mimetype": "text/x-python",
   "name": "python",
   "nbconvert_exporter": "python",
   "pygments_lexer": "ipython3",
   "version": "3.6.1"
  }
 },
 "nbformat": 4,
 "nbformat_minor": 1
}
