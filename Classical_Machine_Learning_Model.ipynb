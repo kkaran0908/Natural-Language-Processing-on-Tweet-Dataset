{
 "cells": [
  {
   "cell_type": "code",
   "execution_count": 34,
   "metadata": {
    "colab": {
     "base_uri": "https://localhost:8080/",
     "height": 156
    },
    "colab_type": "code",
    "id": "FP8yM1gF2vf9",
    "outputId": "c26c58f2-c683-452d-e274-657f3023dd86"
   },
   "outputs": [
    {
     "name": "stderr",
     "output_type": "stream",
     "text": [
      "[nltk_data] Downloading package punkt to\n",
      "[nltk_data]     C:\\Users\\karan\\AppData\\Roaming\\nltk_data...\n",
      "[nltk_data]   Package punkt is already up-to-date!\n"
     ]
    },
    {
     "data": {
      "text/plain": [
       "True"
      ]
     },
     "execution_count": 34,
     "metadata": {},
     "output_type": "execute_result"
    }
   ],
   "source": [
    "import pandas as pd\n",
    "import nltk\n",
    "from nltk.tokenize import sent_tokenize, word_tokenize, RegexpTokenizer\n",
    "import re\n",
    "import string\n",
    "import operator\n",
    "from nltk.util import ngrams\n",
    "import numpy as np\n",
    "from sklearn.feature_extraction.text import TfidfVectorizer\n",
    "from xgboost import XGBClassifier as XG\n",
    "nltk.download('punkt')\n",
    "from sklearn.metrics import accuracy_score\n",
    "from sklearn.metrics import classification_report as report\n",
    "from sklearn.ensemble import RandomForestClassifier as RFC"
   ]
  },
  {
   "cell_type": "code",
   "execution_count": 2,
   "metadata": {
    "colab": {},
    "colab_type": "code",
    "id": "miXDZgt_2vgC"
   },
   "outputs": [],
   "source": [
    "# read file from google-drive, colab doesnt keeps uploaded files persistently\n",
    "\n",
    "tweet_file = open(r\"train.txt\", encoding=\"utf8\")\n",
    "tweets = tweet_file.read()\n",
    "\n",
    "# test file separate\n",
    "tweets_file_test = open(r\"test.txt\", encoding=\"utf8\")\n",
    "tweets_test = tweets_file_test.read()\n",
    "\n",
    "# tweets_list = nltk.sent_tokenize(tweets)\n",
    "tweets_list = re.split('\\n\\n',tweets)\n",
    "tweets_list_test = re.split('\\n\\n',tweets_test)\n",
    "\n",
    "tweets_list = tweets_list[:-1]\n",
    "tweets_list_test = tweets_list_test[:-1]"
   ]
  },
  {
   "cell_type": "code",
   "execution_count": 3,
   "metadata": {
    "colab": {
     "base_uri": "https://localhost:8080/",
     "height": 187
    },
    "colab_type": "code",
    "id": "ihQVd0Hj2vgE",
    "outputId": "750edc6d-dfbd-47fd-8cca-e2af3643956f"
   },
   "outputs": [
    {
     "data": {
      "text/plain": [
       "['negative',\n",
       " 'negative',\n",
       " 'positive',\n",
       " 'positive',\n",
       " 'positive',\n",
       " 'negative',\n",
       " 'positive',\n",
       " 'negative',\n",
       " 'positive',\n",
       " 'negative']"
      ]
     },
     "execution_count": 3,
     "metadata": {},
     "output_type": "execute_result"
    }
   ],
   "source": [
    "#clean train dataset\n",
    "tweets_clean_list = []\n",
    "sentiments_list = []\n",
    "\n",
    "for sent in tweets_list:\n",
    "  # remove \\n\n",
    "  temp = re.sub(\"\\n\", ' ', sent)\n",
    "\n",
    "  # remove ’\n",
    "  temp = re.sub(\"\\’\", '', sent)\n",
    "\n",
    "  # convert to lowercase\n",
    "  temp = temp.lower()\n",
    "\n",
    "  # remove unnecessary punctuations\n",
    "  temp = \" \".join(\"\".join([\" \" if ch in string.punctuation else ch for ch in temp]).split())\n",
    "  \n",
    "  # remove first two words from the message, its metadata\n",
    "  temp = temp.split(' ', 3)\n",
    "\n",
    "  # take the next word as sentiment\n",
    "  sentiment = temp[2]\n",
    "\n",
    "  # Retreive only the message\n",
    "  new_msg = temp[3]\n",
    "\n",
    "  new_msg = new_msg.replace(\"hin\", \"\")\n",
    "  new_msg = new_msg.replace(\"eng\", \"\")\n",
    "  new_msg = new_msg.replace(\"o\", \"\")\n",
    "\n",
    "  # emoji removal by emoji pattern\n",
    "  emoji_pattern = re.compile(\"[\"\n",
    "                        u\"\\U0001F600-\\U0001F64F\"  # emoticons\n",
    "                        u\"\\U0001F300-\\U0001F5FF\"  # symbols & pictographs\n",
    "                        u\"\\U0001F680-\\U0001F6FF\"  # transport & map symbols\n",
    "                        u\"\\U0001F1E0-\\U0001F1FF\"  # flags (iOS)\n",
    "                        u\"\\U00002702-\\U000027B0\"\n",
    "                        u\"\\U000024C2-\\U0001F251\"\n",
    "                        \"]+\", flags=re.UNICODE)\n",
    "  new_msg = emoji_pattern.sub(r'', new_msg)\n",
    "\n",
    "  # remove multiple consecutive spaces from message\n",
    "  new_msg = re.sub(' +', ' ', new_msg)\n",
    "\n",
    "  #after cleaning up, append to new list\n",
    "  tweets_clean_list.append(new_msg)\n",
    "  sentiments_list.append(sentiment)\n",
    "\n",
    "tweets_clean_list[:10]\n",
    "sentiments_list[:10]"
   ]
  },
  {
   "cell_type": "code",
   "execution_count": 4,
   "metadata": {
    "colab": {
     "base_uri": "https://localhost:8080/",
     "height": 187
    },
    "colab_type": "code",
    "id": "Ij0sTeC_2vgG",
    "outputId": "e6e6c237-6535-4708-af0c-be40194a0f35"
   },
   "outputs": [
    {
     "data": {
      "text/plain": [
       "['neutral',\n",
       " 'neutral',\n",
       " 'neutral',\n",
       " 'negative',\n",
       " 'positive',\n",
       " 'positive',\n",
       " 'positive',\n",
       " 'negative',\n",
       " 'positive',\n",
       " 'negative']"
      ]
     },
     "execution_count": 4,
     "metadata": {},
     "output_type": "execute_result"
    }
   ],
   "source": [
    "#Clean Test dataset\n",
    "tweets_clean_list_test = []\n",
    "sentiments_list_test = []\n",
    "\n",
    "for sent in tweets_list_test:\n",
    "  # remove \\n\n",
    "  temp = re.sub(\"\\n\", ' ', sent)\n",
    "\n",
    "  # remove ’\n",
    "  temp = re.sub(\"\\’\", '', sent)\n",
    "\n",
    "  # convert to lowercase\n",
    "  temp = temp.lower()\n",
    "\n",
    "  # remove unnecessary punctuations\n",
    "  temp = \" \".join(\"\".join([\" \" if ch in string.punctuation else ch for ch in temp]).split())\n",
    "  \n",
    "  # remove first three words from the message, its metadata\n",
    "  temp = temp.split(' ', 3)\n",
    "\n",
    "  # take the next word as sentiment\n",
    "  sentiment = temp[2]\n",
    "\n",
    "  # Retreive only the message\n",
    "  new_msg = temp[3]\n",
    "\n",
    "  new_msg = new_msg.replace(\"hin\", \"\")\n",
    "  new_msg = new_msg.replace(\"eng\", \"\")\n",
    "  new_msg = new_msg.replace(\"o\", \"\")\n",
    "\n",
    "  # emoji removal by emoji pattern\n",
    "  emoji_pattern = re.compile(\"[\"\n",
    "                        u\"\\U0001F600-\\U0001F64F\"  # emoticons\n",
    "                        u\"\\U0001F300-\\U0001F5FF\"  # symbols & pictographs\n",
    "                        u\"\\U0001F680-\\U0001F6FF\"  # transport & map symbols\n",
    "                        u\"\\U0001F1E0-\\U0001F1FF\"  # flags (iOS)\n",
    "                        u\"\\U00002702-\\U000027B0\"\n",
    "                        u\"\\U000024C2-\\U0001F251\"\n",
    "                        \"]+\", flags=re.UNICODE)\n",
    "  new_msg = emoji_pattern.sub(r'', new_msg)\n",
    "\n",
    "  new_msg = re.sub(' +', ' ', new_msg)\n",
    "\n",
    "  #after cleaning up, append to new list\n",
    "  tweets_clean_list_test.append(new_msg)\n",
    "  sentiments_list_test.append(sentiment)\n",
    "\n",
    "\n",
    "tweets_clean_list_test[:10]\n",
    "\n",
    "\n",
    "sentiments_list_test[:10]\n"
   ]
  },
  {
   "cell_type": "code",
   "execution_count": 5,
   "metadata": {
    "colab": {},
    "colab_type": "code",
    "id": "BNEffjP82vgI"
   },
   "outputs": [],
   "source": [
    "train_dict = {\"Message\": tweets_clean_list, \"Sentiment\": sentiments_list}\n",
    "df = pd.DataFrame(train_dict)"
   ]
  },
  {
   "cell_type": "markdown",
   "metadata": {
    "colab_type": "text",
    "id": "ONM-wwhE2vgK"
   },
   "source": [
    "### removing extra spaces from the tweets"
   ]
  },
  {
   "cell_type": "code",
   "execution_count": 6,
   "metadata": {
    "colab": {},
    "colab_type": "code",
    "id": "DgL36DrH2vgK"
   },
   "outputs": [],
   "source": [
    "mess = []\n",
    "for message in df['Message'].values:\n",
    "    x = re.sub(' +', ' ',message)\n",
    "    z = x.lstrip()\n",
    "    y = z.rstrip()\n",
    "    mess.append(y)"
   ]
  },
  {
   "cell_type": "code",
   "execution_count": 7,
   "metadata": {
    "colab": {},
    "colab_type": "code",
    "id": "gvs3le_c2vgM"
   },
   "outputs": [],
   "source": [
    "df['Message_clean'] = mess"
   ]
  },
  {
   "cell_type": "code",
   "execution_count": 8,
   "metadata": {
    "colab": {},
    "colab_type": "code",
    "id": "fjssJgnd2vgO"
   },
   "outputs": [],
   "source": [
    "df = df.drop(['Message'],axis=1)"
   ]
  },
  {
   "cell_type": "code",
   "execution_count": 9,
   "metadata": {
    "colab": {
     "base_uri": "https://localhost:8080/",
     "height": 204
    },
    "colab_type": "code",
    "id": "Y5zkI8W42vgP",
    "outputId": "ea310ecb-43b9-4831-f5da-106a5fb1990e"
   },
   "outputs": [
    {
     "data": {
      "text/html": [
       "<div>\n",
       "<style scoped>\n",
       "    .dataframe tbody tr th:only-of-type {\n",
       "        vertical-align: middle;\n",
       "    }\n",
       "\n",
       "    .dataframe tbody tr th {\n",
       "        vertical-align: top;\n",
       "    }\n",
       "\n",
       "    .dataframe thead th {\n",
       "        text-align: right;\n",
       "    }\n",
       "</style>\n",
       "<table border=\"1\" class=\"dataframe\">\n",
       "  <thead>\n",
       "    <tr style=\"text-align: right;\">\n",
       "      <th></th>\n",
       "      <th>Sentiment</th>\n",
       "      <th>Message_clean</th>\n",
       "    </tr>\n",
       "  </thead>\n",
       "  <tbody>\n",
       "    <tr>\n",
       "      <th>0</th>\n",
       "      <td>negative</td>\n",
       "      <td>adilnisarbutt pakistan ka ghra tauq he pakista...</td>\n",
       "    </tr>\n",
       "    <tr>\n",
       "      <th>1</th>\n",
       "      <td>negative</td>\n",
       "      <td>madarchd mulle ye mathura me nahi dikha tha ja...</td>\n",
       "    </tr>\n",
       "    <tr>\n",
       "      <th>2</th>\n",
       "      <td>positive</td>\n",
       "      <td>narendramdi manya pradhan mantri mahday shrima...</td>\n",
       "    </tr>\n",
       "    <tr>\n",
       "      <th>3</th>\n",
       "      <td>positive</td>\n",
       "      <td>atheist krishna jcb full trend me chal rahi aa</td>\n",
       "    </tr>\n",
       "    <tr>\n",
       "      <th>4</th>\n",
       "      <td>positive</td>\n",
       "      <td>abhisharsharma ravishkumarblg lksabha me janta...</td>\n",
       "    </tr>\n",
       "  </tbody>\n",
       "</table>\n",
       "</div>"
      ],
      "text/plain": [
       "  Sentiment                                      Message_clean\n",
       "0  negative  adilnisarbutt pakistan ka ghra tauq he pakista...\n",
       "1  negative  madarchd mulle ye mathura me nahi dikha tha ja...\n",
       "2  positive  narendramdi manya pradhan mantri mahday shrima...\n",
       "3  positive     atheist krishna jcb full trend me chal rahi aa\n",
       "4  positive  abhisharsharma ravishkumarblg lksabha me janta..."
      ]
     },
     "execution_count": 9,
     "metadata": {},
     "output_type": "execute_result"
    }
   ],
   "source": [
    "df.head()"
   ]
  },
  {
   "cell_type": "markdown",
   "metadata": {
    "colab_type": "text",
    "id": "0SGVDPYH2vgR"
   },
   "source": [
    "### for test dataset"
   ]
  },
  {
   "cell_type": "code",
   "execution_count": 10,
   "metadata": {
    "colab": {},
    "colab_type": "code",
    "id": "9-1NCQtM2vgR"
   },
   "outputs": [],
   "source": [
    "train_dict = {\"Message\": tweets_clean_list_test, \"Sentiment\": sentiments_list_test}\n",
    "df_test = pd.DataFrame(train_dict)"
   ]
  },
  {
   "cell_type": "code",
   "execution_count": 11,
   "metadata": {
    "colab": {},
    "colab_type": "code",
    "id": "izTKoPTx2vgT"
   },
   "outputs": [],
   "source": [
    "mess = []\n",
    "for message in df_test['Message'].values:\n",
    "    x = re.sub(' +', ' ',message)\n",
    "    z = x.lstrip()\n",
    "    y = z.rstrip()\n",
    "    mess.append(y)"
   ]
  },
  {
   "cell_type": "code",
   "execution_count": 12,
   "metadata": {
    "colab": {},
    "colab_type": "code",
    "id": "X4cGZjWo2vgV"
   },
   "outputs": [],
   "source": [
    "df_test['Message_clean'] = mess"
   ]
  },
  {
   "cell_type": "code",
   "execution_count": 13,
   "metadata": {
    "colab": {},
    "colab_type": "code",
    "id": "8pTshdOr2vgX"
   },
   "outputs": [],
   "source": [
    "df_test = df_test.drop(['Message'],axis=1)"
   ]
  },
  {
   "cell_type": "code",
   "execution_count": 14,
   "metadata": {
    "colab": {
     "base_uri": "https://localhost:8080/",
     "height": 204
    },
    "colab_type": "code",
    "id": "80WETHS82vgY",
    "outputId": "9eb64b43-5828-4135-883d-8a6440617f2b"
   },
   "outputs": [
    {
     "data": {
      "text/html": [
       "<div>\n",
       "<style scoped>\n",
       "    .dataframe tbody tr th:only-of-type {\n",
       "        vertical-align: middle;\n",
       "    }\n",
       "\n",
       "    .dataframe tbody tr th {\n",
       "        vertical-align: top;\n",
       "    }\n",
       "\n",
       "    .dataframe thead th {\n",
       "        text-align: right;\n",
       "    }\n",
       "</style>\n",
       "<table border=\"1\" class=\"dataframe\">\n",
       "  <thead>\n",
       "    <tr style=\"text-align: right;\">\n",
       "      <th></th>\n",
       "      <th>Sentiment</th>\n",
       "      <th>Message_clean</th>\n",
       "    </tr>\n",
       "  </thead>\n",
       "  <tbody>\n",
       "    <tr>\n",
       "      <th>0</th>\n",
       "      <td>neutral</td>\n",
       "      <td>rt uaapcnfessins lve lks gd n maddie ak lang b...</td>\n",
       "    </tr>\n",
       "    <tr>\n",
       "      <th>1</th>\n",
       "      <td>neutral</td>\n",
       "      <td>ye ye ye we gnna start anther june n a sur nte...</td>\n",
       "    </tr>\n",
       "    <tr>\n",
       "      <th>2</th>\n",
       "      <td>neutral</td>\n",
       "      <td>zwfffy9jgklela1 min f lycg thakurdadu089 manak...</td>\n",
       "    </tr>\n",
       "    <tr>\n",
       "      <th>3</th>\n",
       "      <td>negative</td>\n",
       "      <td>caring bht jyada caring curier wale bsdk ke si...</td>\n",
       "    </tr>\n",
       "    <tr>\n",
       "      <th>4</th>\n",
       "      <td>positive</td>\n",
       "      <td>alihzaidipti sarfaraza 54 what nnesense kabhi ...</td>\n",
       "    </tr>\n",
       "  </tbody>\n",
       "</table>\n",
       "</div>"
      ],
      "text/plain": [
       "  Sentiment                                      Message_clean\n",
       "0   neutral  rt uaapcnfessins lve lks gd n maddie ak lang b...\n",
       "1   neutral  ye ye ye we gnna start anther june n a sur nte...\n",
       "2   neutral  zwfffy9jgklela1 min f lycg thakurdadu089 manak...\n",
       "3  negative  caring bht jyada caring curier wale bsdk ke si...\n",
       "4  positive  alihzaidipti sarfaraza 54 what nnesense kabhi ..."
      ]
     },
     "execution_count": 14,
     "metadata": {},
     "output_type": "execute_result"
    }
   ],
   "source": [
    "df_test.head()"
   ]
  },
  {
   "cell_type": "code",
   "execution_count": 15,
   "metadata": {
    "colab": {
     "base_uri": "https://localhost:8080/",
     "height": 34
    },
    "colab_type": "code",
    "id": "QLfTOJ_82vga",
    "outputId": "c76c3af6-f51f-4dfb-cd52-f12afdb7df37"
   },
   "outputs": [
    {
     "data": {
      "text/plain": [
       "(1869, 1869)"
      ]
     },
     "execution_count": 15,
     "metadata": {},
     "output_type": "execute_result"
    }
   ],
   "source": [
    "stopwords = set([])\n",
    "len(tweets_clean_list_test),len(sentiments_list_test)"
   ]
  },
  {
   "cell_type": "code",
   "execution_count": 16,
   "metadata": {
    "colab": {},
    "colab_type": "code",
    "id": "jJ_RK49t2vgc"
   },
   "outputs": [],
   "source": [
    "# https://stackoverflow.com/a/47091490/4084039\n",
    "import re\n",
    "\n",
    "def decontracted(phrase):\n",
    "    # specific\n",
    "    phrase = re.sub(r\"won't\", \"will not\", phrase)\n",
    "    phrase = re.sub(r\"can\\'t\", \"can not\", phrase)\n",
    "\n",
    "    # general\n",
    "    phrase = re.sub(r\"n\\'t\", \" not\", phrase)\n",
    "    phrase = re.sub(r\"\\'re\", \" are\", phrase)\n",
    "    phrase = re.sub(r\"\\'s\", \" is\", phrase)\n",
    "    phrase = re.sub(r\"\\'d\", \" would\", phrase)\n",
    "    phrase = re.sub(r\"\\'ll\", \" will\", phrase)\n",
    "    phrase = re.sub(r\"\\'t\", \" not\", phrase)\n",
    "    phrase = re.sub(r\"\\'ve\", \" have\", phrase)\n",
    "    phrase = re.sub(r\"\\'m\", \" am\", phrase)\n",
    "    return phrase"
   ]
  },
  {
   "cell_type": "code",
   "execution_count": 17,
   "metadata": {
    "colab": {
     "base_uri": "https://localhost:8080/",
     "height": 34
    },
    "colab_type": "code",
    "id": "tSJAV_0R2vgd",
    "outputId": "7f0c91eb-e197-49c5-f41a-91f4ceb736cd"
   },
   "outputs": [
    {
     "name": "stderr",
     "output_type": "stream",
     "text": [
      "100%|██████████████████████████████████████████████████████████████████████████| 15131/15131 [00:03<00:00, 4666.71it/s]\n"
     ]
    }
   ],
   "source": [
    "# Combining all the above stundents \n",
    "from tqdm import tqdm\n",
    "from bs4 import BeautifulSoup\n",
    "preprocessed_text = []\n",
    "# tqdm is for printing the status bar\n",
    "for sentance in tqdm(df['Message_clean'].values):\n",
    "    sentance = re.sub(r\"http\\S+\", \"\", sentance)\n",
    "    sentance = BeautifulSoup(sentance, 'lxml').get_text()\n",
    "    sentance = decontracted(sentance)\n",
    "    sentance = re.sub(\"\\S*\\d\\S*\", \"\", sentance).strip()\n",
    "    sentance = re.sub('[^A-Za-z]+', ' ', sentance)\n",
    "    # https://gist.github.com/sebleier/554280\n",
    "    sentance = ' '.join(e.lower() for e in sentance.split() if e.lower() not in stopwords)\n",
    "    preprocessed_text.append(sentance.strip())"
   ]
  },
  {
   "cell_type": "code",
   "execution_count": 18,
   "metadata": {
    "colab": {},
    "colab_type": "code",
    "id": "XrpIXDKB2vgf"
   },
   "outputs": [],
   "source": [
    "df['Message'] = preprocessed_text"
   ]
  },
  {
   "cell_type": "code",
   "execution_count": 21,
   "metadata": {
    "colab": {},
    "colab_type": "code",
    "id": "8oF3veoPAO4P"
   },
   "outputs": [],
   "source": [
    "pre = preprocessed_text\n",
    "preprocessed_text = []\n",
    "for val in pre:\n",
    "    x = \"\"\n",
    "    for w in val.split(' '):\n",
    "        if len(w)>1:\n",
    "            x = x+\" \"+w\n",
    "    preprocessed_text.append(x)"
   ]
  },
  {
   "cell_type": "code",
   "execution_count": 22,
   "metadata": {
    "colab": {},
    "colab_type": "code",
    "id": "mi3AjaKGAO7R"
   },
   "outputs": [],
   "source": [
    "df['single'] = preprocessed_text"
   ]
  },
  {
   "cell_type": "code",
   "execution_count": 23,
   "metadata": {
    "colab": {
     "base_uri": "https://localhost:8080/",
     "height": 34
    },
    "colab_type": "code",
    "id": "4xfGypkx2vgj",
    "outputId": "99db2ee1-2686-4dfd-be8a-547fb12a2a61"
   },
   "outputs": [
    {
     "name": "stderr",
     "output_type": "stream",
     "text": [
      "100%|████████████████████████████████████████████████████████████████████████████| 1869/1869 [00:00<00:00, 4091.43it/s]\n"
     ]
    }
   ],
   "source": [
    "# Combining all the above stundents \n",
    "from tqdm import tqdm\n",
    "from bs4 import BeautifulSoup\n",
    "preprocessed_text = []\n",
    "# tqdm is for printing the status bar\n",
    "for sentance in tqdm(df_test['Message_clean'].values):\n",
    "    sentance = re.sub(r\"http\\S+\", \"\", sentance)\n",
    "    sentance = BeautifulSoup(sentance, 'lxml').get_text()\n",
    "    sentance = decontracted(sentance)\n",
    "    sentance = re.sub(\"\\S*\\d\\S*\", \"\", sentance).strip()\n",
    "    sentance = re.sub('[^A-Za-z]+', ' ', sentance)\n",
    "    # https://gist.github.com/sebleier/554280\n",
    "    sentance = ' '.join(e.lower() for e in sentance.split() if e.lower() not in stopwords)\n",
    "    preprocessed_text.append(sentance.strip())"
   ]
  },
  {
   "cell_type": "code",
   "execution_count": 24,
   "metadata": {
    "colab": {},
    "colab_type": "code",
    "id": "QEpku83T_oJ4"
   },
   "outputs": [],
   "source": [
    "df_test['Message'] = preprocessed_text"
   ]
  },
  {
   "cell_type": "markdown",
   "metadata": {
    "colab_type": "text",
    "id": "BrX_tfWJ_u9C"
   },
   "source": [
    "## Removing all the words with single length"
   ]
  },
  {
   "cell_type": "code",
   "execution_count": 26,
   "metadata": {
    "colab": {},
    "colab_type": "code",
    "id": "a59LoMpt_Lu6"
   },
   "outputs": [],
   "source": [
    "pre = preprocessed_text\n",
    "preprocessed_text = []\n",
    "for val in pre:\n",
    "  #print(val)\n",
    "    x = \"\"\n",
    "    for w in val.split(' '):\n",
    "        if len(w)>1:\n",
    "            x = x+\" \"+w\n",
    "  #print(x)\n",
    "  #break\n",
    "    preprocessed_text.append(x)"
   ]
  },
  {
   "cell_type": "code",
   "execution_count": 27,
   "metadata": {
    "colab": {},
    "colab_type": "code",
    "id": "pqGM7Bjt2vgl"
   },
   "outputs": [],
   "source": [
    "df_test['single'] = preprocessed_text"
   ]
  },
  {
   "cell_type": "code",
   "execution_count": 28,
   "metadata": {
    "colab": {
     "base_uri": "https://localhost:8080/",
     "height": 204
    },
    "colab_type": "code",
    "id": "AQNPCWkZ2vgo",
    "outputId": "7f70c181-6752-4141-f8d3-d49e33042fe3"
   },
   "outputs": [
    {
     "data": {
      "text/html": [
       "<div>\n",
       "<style scoped>\n",
       "    .dataframe tbody tr th:only-of-type {\n",
       "        vertical-align: middle;\n",
       "    }\n",
       "\n",
       "    .dataframe tbody tr th {\n",
       "        vertical-align: top;\n",
       "    }\n",
       "\n",
       "    .dataframe thead th {\n",
       "        text-align: right;\n",
       "    }\n",
       "</style>\n",
       "<table border=\"1\" class=\"dataframe\">\n",
       "  <thead>\n",
       "    <tr style=\"text-align: right;\">\n",
       "      <th></th>\n",
       "      <th>Sentiment</th>\n",
       "      <th>Message_clean</th>\n",
       "      <th>Message</th>\n",
       "      <th>single</th>\n",
       "    </tr>\n",
       "  </thead>\n",
       "  <tbody>\n",
       "    <tr>\n",
       "      <th>0</th>\n",
       "      <td>neutral</td>\n",
       "      <td>rt uaapcnfessins lve lks gd n maddie ak lang b...</td>\n",
       "      <td>rt uaapcnfessins lve lks gd n maddie ak lang b...</td>\n",
       "      <td>rt uaapcnfessins lve lks gd maddie ak lang ba...</td>\n",
       "    </tr>\n",
       "    <tr>\n",
       "      <th>1</th>\n",
       "      <td>neutral</td>\n",
       "      <td>ye ye ye we gnna start anther june n a sur nte...</td>\n",
       "      <td>ye ye ye we gnna start anther june n a sur nte...</td>\n",
       "      <td>ye ye ye we gnna start anther june sur nte uh...</td>\n",
       "    </tr>\n",
       "    <tr>\n",
       "      <th>2</th>\n",
       "      <td>neutral</td>\n",
       "      <td>zwfffy9jgklela1 min f lycg thakurdadu089 manak...</td>\n",
       "      <td>min f lycg manakgupta fficefknath mein kahna n...</td>\n",
       "      <td>min lycg manakgupta fficefknath mein kahna na...</td>\n",
       "    </tr>\n",
       "    <tr>\n",
       "      <th>3</th>\n",
       "      <td>negative</td>\n",
       "      <td>caring bht jyada caring curier wale bsdk ke si...</td>\n",
       "      <td>caring bht jyada caring curier wale bsdk ke si...</td>\n",
       "      <td>caring bht jyada caring curier wale bsdk ke s...</td>\n",
       "    </tr>\n",
       "    <tr>\n",
       "      <th>4</th>\n",
       "      <td>positive</td>\n",
       "      <td>alihzaidipti sarfaraza 54 what nnesense kabhi ...</td>\n",
       "      <td>alihzaidipti sarfaraza what nnesense kabhi bay...</td>\n",
       "      <td>alihzaidipti sarfaraza what nnesense kabhi ba...</td>\n",
       "    </tr>\n",
       "  </tbody>\n",
       "</table>\n",
       "</div>"
      ],
      "text/plain": [
       "  Sentiment                                      Message_clean  \\\n",
       "0   neutral  rt uaapcnfessins lve lks gd n maddie ak lang b...   \n",
       "1   neutral  ye ye ye we gnna start anther june n a sur nte...   \n",
       "2   neutral  zwfffy9jgklela1 min f lycg thakurdadu089 manak...   \n",
       "3  negative  caring bht jyada caring curier wale bsdk ke si...   \n",
       "4  positive  alihzaidipti sarfaraza 54 what nnesense kabhi ...   \n",
       "\n",
       "                                             Message  \\\n",
       "0  rt uaapcnfessins lve lks gd n maddie ak lang b...   \n",
       "1  ye ye ye we gnna start anther june n a sur nte...   \n",
       "2  min f lycg manakgupta fficefknath mein kahna n...   \n",
       "3  caring bht jyada caring curier wale bsdk ke si...   \n",
       "4  alihzaidipti sarfaraza what nnesense kabhi bay...   \n",
       "\n",
       "                                              single  \n",
       "0   rt uaapcnfessins lve lks gd maddie ak lang ba...  \n",
       "1   ye ye ye we gnna start anther june sur nte uh...  \n",
       "2   min lycg manakgupta fficefknath mein kahna na...  \n",
       "3   caring bht jyada caring curier wale bsdk ke s...  \n",
       "4   alihzaidipti sarfaraza what nnesense kabhi ba...  "
      ]
     },
     "execution_count": 28,
     "metadata": {},
     "output_type": "execute_result"
    }
   ],
   "source": [
    "## test data\n",
    "df_test.head()"
   ]
  },
  {
   "cell_type": "code",
   "execution_count": 29,
   "metadata": {
    "colab": {
     "base_uri": "https://localhost:8080/",
     "height": 204
    },
    "colab_type": "code",
    "id": "kc5TZCuk2vgq",
    "outputId": "30592f93-e9d0-4469-a121-138944a56171"
   },
   "outputs": [
    {
     "data": {
      "text/html": [
       "<div>\n",
       "<style scoped>\n",
       "    .dataframe tbody tr th:only-of-type {\n",
       "        vertical-align: middle;\n",
       "    }\n",
       "\n",
       "    .dataframe tbody tr th {\n",
       "        vertical-align: top;\n",
       "    }\n",
       "\n",
       "    .dataframe thead th {\n",
       "        text-align: right;\n",
       "    }\n",
       "</style>\n",
       "<table border=\"1\" class=\"dataframe\">\n",
       "  <thead>\n",
       "    <tr style=\"text-align: right;\">\n",
       "      <th></th>\n",
       "      <th>Sentiment</th>\n",
       "      <th>Message_clean</th>\n",
       "      <th>Message</th>\n",
       "      <th>single</th>\n",
       "    </tr>\n",
       "  </thead>\n",
       "  <tbody>\n",
       "    <tr>\n",
       "      <th>0</th>\n",
       "      <td>negative</td>\n",
       "      <td>adilnisarbutt pakistan ka ghra tauq he pakista...</td>\n",
       "      <td>adilnisarbutt pakistan ka ghra tauq he pakista...</td>\n",
       "      <td>adilnisarbutt pakistan ka ghra tauq he pakist...</td>\n",
       "    </tr>\n",
       "    <tr>\n",
       "      <th>1</th>\n",
       "      <td>negative</td>\n",
       "      <td>madarchd mulle ye mathura me nahi dikha tha ja...</td>\n",
       "      <td>madarchd mulle ye mathura me nahi dikha tha ja...</td>\n",
       "      <td>madarchd mulle ye mathura me nahi dikha tha j...</td>\n",
       "    </tr>\n",
       "    <tr>\n",
       "      <th>2</th>\n",
       "      <td>positive</td>\n",
       "      <td>narendramdi manya pradhan mantri mahday shrima...</td>\n",
       "      <td>narendramdi manya pradhan mantri mahday shrima...</td>\n",
       "      <td>narendramdi manya pradhan mantri mahday shrim...</td>\n",
       "    </tr>\n",
       "    <tr>\n",
       "      <th>3</th>\n",
       "      <td>positive</td>\n",
       "      <td>atheist krishna jcb full trend me chal rahi aa</td>\n",
       "      <td>atheist krishna jcb full trend me chal rahi aa</td>\n",
       "      <td>atheist krishna jcb full trend me chal rahi aa</td>\n",
       "    </tr>\n",
       "    <tr>\n",
       "      <th>4</th>\n",
       "      <td>positive</td>\n",
       "      <td>abhisharsharma ravishkumarblg lksabha me janta...</td>\n",
       "      <td>abhisharsharma ravishkumarblg lksabha me janta...</td>\n",
       "      <td>abhisharsharma ravishkumarblg lksabha me jant...</td>\n",
       "    </tr>\n",
       "  </tbody>\n",
       "</table>\n",
       "</div>"
      ],
      "text/plain": [
       "  Sentiment                                      Message_clean  \\\n",
       "0  negative  adilnisarbutt pakistan ka ghra tauq he pakista...   \n",
       "1  negative  madarchd mulle ye mathura me nahi dikha tha ja...   \n",
       "2  positive  narendramdi manya pradhan mantri mahday shrima...   \n",
       "3  positive     atheist krishna jcb full trend me chal rahi aa   \n",
       "4  positive  abhisharsharma ravishkumarblg lksabha me janta...   \n",
       "\n",
       "                                             Message  \\\n",
       "0  adilnisarbutt pakistan ka ghra tauq he pakista...   \n",
       "1  madarchd mulle ye mathura me nahi dikha tha ja...   \n",
       "2  narendramdi manya pradhan mantri mahday shrima...   \n",
       "3     atheist krishna jcb full trend me chal rahi aa   \n",
       "4  abhisharsharma ravishkumarblg lksabha me janta...   \n",
       "\n",
       "                                              single  \n",
       "0   adilnisarbutt pakistan ka ghra tauq he pakist...  \n",
       "1   madarchd mulle ye mathura me nahi dikha tha j...  \n",
       "2   narendramdi manya pradhan mantri mahday shrim...  \n",
       "3     atheist krishna jcb full trend me chal rahi aa  \n",
       "4   abhisharsharma ravishkumarblg lksabha me jant...  "
      ]
     },
     "execution_count": 29,
     "metadata": {},
     "output_type": "execute_result"
    }
   ],
   "source": [
    "## train data\n",
    "df.head()"
   ]
  },
  {
   "cell_type": "code",
   "execution_count": null,
   "metadata": {},
   "outputs": [],
   "source": [
    "## single is a column containing only the words having length greater then one"
   ]
  },
  {
   "cell_type": "markdown",
   "metadata": {
    "colab_type": "text",
    "id": "aCEjb47X2vgs"
   },
   "source": [
    "### Applying XGBoost"
   ]
  },
  {
   "cell_type": "code",
   "execution_count": 32,
   "metadata": {},
   "outputs": [],
   "source": [
    "tfidf = TfidfVectorizer()\n",
    "X_train = tfidf.fit_transform(df['single'])\n",
    "X_test = tfidf.transform(df_test['single'])"
   ]
  },
  {
   "cell_type": "code",
   "execution_count": null,
   "metadata": {},
   "outputs": [],
   "source": [
    "y_test1 = df_test['Sentiment']\n",
    "y_test = []\n",
    "for val in y_test1:\n",
    "    if val=='neutral':\n",
    "        y_test.append(1)\n",
    "    if val=='positive':\n",
    "        y_test.append(2)\n",
    "    if val=='negative':\n",
    "        y_test.append(3)\n",
    "\n",
    "y_test1 = df['Sentiment']\n",
    "y_train = []\n",
    "for val in y_test1:\n",
    "    if val=='neutral':\n",
    "        y_train.append(1)\n",
    "    if val=='positive':\n",
    "        y_train.append(2)\n",
    "    if val=='negative':\n",
    "        y_train.append(3)"
   ]
  },
  {
   "cell_type": "code",
   "execution_count": 51,
   "metadata": {},
   "outputs": [
    {
     "name": "stdout",
     "output_type": "stream",
     "text": [
      "Accuracy Score of the model: 0.555912252541466\n"
     ]
    }
   ],
   "source": [
    "model = XG(max_depth=6)\n",
    "model.fit(X_train,y_train)\n",
    "y_pre = model.predict(X_test)\n",
    "print(\"Accuracy Score of the model:\",accuracy_score(y_test,y_pre))"
   ]
  },
  {
   "cell_type": "code",
   "execution_count": 59,
   "metadata": {},
   "outputs": [
    {
     "name": "stdout",
     "output_type": "stream",
     "text": [
      "Accuracy score of the model : 0.555912252541466\n"
     ]
    }
   ],
   "source": [
    "print(\"Accuracy score of the model :\",accuracy_score(y_test,y_pre))"
   ]
  },
  {
   "cell_type": "markdown",
   "metadata": {},
   "source": [
    "#### Representation of classes:\n",
    "- 1 : Neutral\n",
    "- 2 : Positive\n",
    "- 3 : Negative"
   ]
  },
  {
   "cell_type": "code",
   "execution_count": 53,
   "metadata": {},
   "outputs": [
    {
     "name": "stdout",
     "output_type": "stream",
     "text": [
      "              precision    recall  f1-score   support\n",
      "\n",
      "           1       0.51      0.64      0.57       754\n",
      "           2       0.59      0.54      0.56       582\n",
      "           3       0.63      0.45      0.53       533\n",
      "\n",
      "    accuracy                           0.56      1869\n",
      "   macro avg       0.57      0.54      0.55      1869\n",
      "weighted avg       0.57      0.56      0.55      1869\n",
      "\n"
     ]
    }
   ],
   "source": [
    "result = report(y_test,y_pre).split(\"\\n\")\n",
    "for d in result:\n",
    "    print(d)"
   ]
  },
  {
   "cell_type": "markdown",
   "metadata": {},
   "source": [
    "### Applying Random Forest"
   ]
  },
  {
   "cell_type": "code",
   "execution_count": 77,
   "metadata": {},
   "outputs": [
    {
     "name": "stdout",
     "output_type": "stream",
     "text": [
      "Accuracy score of the model : 0.5436062065275549\n"
     ]
    }
   ],
   "source": [
    "model1 = RFC(n_estimators=120,max_depth=28)\n",
    "model1.fit(X_train,y_train)\n",
    "y_pre = model1.predict(X_test)\n",
    "print(\"Accuracy score of the model :\",accuracy_score(y_test,y_pre))"
   ]
  },
  {
   "cell_type": "code",
   "execution_count": 78,
   "metadata": {},
   "outputs": [
    {
     "name": "stdout",
     "output_type": "stream",
     "text": [
      "              precision    recall  f1-score   support\n",
      "\n",
      "           1       0.49      0.67      0.57       754\n",
      "           2       0.58      0.55      0.57       582\n",
      "           3       0.66      0.35      0.46       533\n",
      "\n",
      "    accuracy                           0.54      1869\n",
      "   macro avg       0.58      0.53      0.53      1869\n",
      "weighted avg       0.57      0.54      0.54      1869\n",
      "\n"
     ]
    }
   ],
   "source": [
    "result = report(y_test,y_pre).split(\"\\n\")\n",
    "for d in result:\n",
    "    print(d)"
   ]
  },
  {
   "cell_type": "code",
   "execution_count": 79,
   "metadata": {},
   "outputs": [
    {
     "name": "stdout",
     "output_type": "stream",
     "text": [
      "Accuracy score of the model : 0.5436062065275549\n"
     ]
    }
   ],
   "source": [
    "print(\"Accuracy score of the model :\",accuracy_score(y_test,y_pre))"
   ]
  },
  {
   "cell_type": "code",
   "execution_count": null,
   "metadata": {},
   "outputs": [],
   "source": [
    "### Optimal set of features using PCA:"
   ]
  },
  {
   "cell_type": "code",
   "execution_count": 87,
   "metadata": {},
   "outputs": [],
   "source": [
    "from sklearn.decomposition import TruncatedSVD as TSVD"
   ]
  },
  {
   "cell_type": "code",
   "execution_count": 90,
   "metadata": {},
   "outputs": [
    {
     "data": {
      "text/plain": [
       "(15131, 37503)"
      ]
     },
     "execution_count": 90,
     "metadata": {},
     "output_type": "execute_result"
    }
   ],
   "source": [
    "X_train.shape"
   ]
  },
  {
   "cell_type": "markdown",
   "metadata": {},
   "source": [
    "### Optimal set of features using TruncatedSVD"
   ]
  },
  {
   "cell_type": "code",
   "execution_count": null,
   "metadata": {},
   "outputs": [
    {
     "name": "stdout",
     "output_type": "stream",
     "text": [
      "Explained Variance :  0.3150661153412167\n",
      "Explained Variance :  0.6143385083197318\n"
     ]
    }
   ],
   "source": [
    "for i in range(500,37503,2000):\n",
    "    tvd = TSVD(n_components=i)\n",
    "    tvd.fit(X_train)  \n",
    "    print(\"Explained Variance : \",tvd.explained_variance_ratio_.sum())"
   ]
  }
 ],
 "metadata": {
  "accelerator": "GPU",
  "colab": {
   "name": "Untitled.ipynb",
   "provenance": []
  },
  "kernelspec": {
   "display_name": "Python 3",
   "language": "python",
   "name": "python3"
  },
  "language_info": {
   "codemirror_mode": {
    "name": "ipython",
    "version": 3
   },
   "file_extension": ".py",
   "mimetype": "text/x-python",
   "name": "python",
   "nbconvert_exporter": "python",
   "pygments_lexer": "ipython3",
   "version": "3.6.1"
  }
 },
 "nbformat": 4,
 "nbformat_minor": 1
}
